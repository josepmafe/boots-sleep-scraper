{
 "cells": [
  {
   "cell_type": "markdown",
   "metadata": {},
   "source": [
    "The purpose of this notebook is to make the first tests to extract information from the [Boots - Sleep](https://www.boots.com/health-pharmacy/medicines-treatments/sleep) web. \n",
    "\n",
    "Since it contains JavaScript, we have chosen to use `selenium` as a scraping tool."
   ]
  },
  {
   "cell_type": "markdown",
   "metadata": {},
   "source": [
    "# selenium"
   ]
  },
  {
   "cell_type": "code",
   "execution_count": 16,
   "metadata": {},
   "outputs": [],
   "source": [
    "from selenium import webdriver\n",
    "from selenium.webdriver.common.by import By\n",
    "from selenium.webdriver.support.ui import WebDriverWait\n",
    "from selenium.webdriver.support import expected_conditions as EC\n",
    "\n",
    "import sys"
   ]
  },
  {
   "cell_type": "code",
   "execution_count": 2,
   "metadata": {},
   "outputs": [],
   "source": [
    "URL = 'https://www.boots.com/health-pharmacy/medicines-treatments/sleep'\n",
    "\n",
    "ACCEPT_COOKIES_BUTTON_ID = \"onetrust-pc-btn-handler\"\n",
    "ACCEPT_RECOMMENDED_COOKIES_BUTTON_ID = \"accept-recommended-btn-handler\"\n",
    "\n",
    "PRODUCT_ELEMENTS_CLASS_NAME = \"oct-teaser__contents\"\n",
    "\n",
    "PRODUCT_TITLE_ID = 'estore_product_title'\n",
    "PRODUCT_RATING_CLASS_NAME = 'bv_avgRating_component_container'\n",
    "PRODUCT_TEXT_CLASS_NAME = 'product_text'\n",
    "PRODUCT_PRICE_STR_CLASS_NAME = 'price'"
   ]
  },
  {
   "cell_type": "code",
   "execution_count": 3,
   "metadata": {},
   "outputs": [],
   "source": [
    "def _wait_until(driver, condition, *, timeout = 10):\n",
    "    \"\"\"\n",
    "    Helper function that wraps `WebDriverWait` for the WebDriver `driver` to wait\n",
    "    until the condition `condition` is fulfilled\n",
    "    \"\"\"\n",
    "    return WebDriverWait(driver, timeout).until(condition)\n",
    "\n",
    "def _wait_until_clickable(driver, by, value, *, timeout = 10):\n",
    "    \"\"\"\n",
    "    Convenience function for the driver to wait until the located element\n",
    "    is clickable\n",
    "    \"\"\"\n",
    "    return _wait_until(driver, condition = EC.element_to_be_clickable((by, value)), timeout = timeout)"
   ]
  },
  {
   "cell_type": "code",
   "execution_count": 4,
   "metadata": {},
   "outputs": [],
   "source": [
    "# instantiate the webdriver and navigate to the webpage\n",
    "driver = webdriver.Chrome()\n",
    "driver.get(URL)\n",
    "\n",
    "# auto-accept cookies (the recommended ones)\n",
    "_wait_until_clickable(driver, By.ID, ACCEPT_COOKIES_BUTTON_ID).click()\n",
    "_wait_until_clickable(driver, By.ID, ACCEPT_RECOMMENDED_COOKIES_BUTTON_ID).click()"
   ]
  },
  {
   "cell_type": "code",
   "execution_count": 28,
   "metadata": {},
   "outputs": [
    {
     "name": "stdout",
     "output_type": "stream",
     "text": [
      "found product 'Boots Sleepeaze Tablets 25 mg - 20s'\n",
      "product tag name: 'a'\n",
      "product class name: 'oct-link oct-link--theme-text oct-color--boots-blue oct-teaser__title-link'\n",
      "found 96 hits\n"
     ]
    }
   ],
   "source": [
    "# find the first hit (product)\n",
    "product_element = driver.find_element(By.PARTIAL_LINK_TEXT, 'Sleepeaze')\n",
    "print(f'found product {product_element.text!r}')\n",
    "print(f'product tag name: {product_element.tag_name!r}')\n",
    "print(f'product class name: {product_element.get_attribute(\"class\")!r}')\n",
    "\n",
    "# check if we can find all 96 displayed products the same way\n",
    "target_class = product_element.get_attribute('class').split(' ')[-1]\n",
    "product_elements = driver.find_elements(By.CLASS_NAME, target_class)\n",
    "print(f'found {len(product_elements)} hits')"
   ]
  },
  {
   "cell_type": "markdown",
   "metadata": {},
   "source": [
    "Note in the following cell we already search for the elements according to their attributes. This elements can be located either \n",
    "- using the developer console in the browser (`Ctrl + Shift + I`), and then using the `Search element` functionality (`Ctrl + Shift + C`), or\n",
    "- using again the `find_element` method of the webdriver (see the code chunk below)\n",
    "\n",
    "```python\n",
    "e = driver.find_element(By.PARTIAL_LINK_TEXT, '<text_to_search>')\n",
    "e_class = e.get_attribute('class')\n",
    "print(e_class)\n",
    "```"
   ]
  },
  {
   "cell_type": "code",
   "execution_count": 30,
   "metadata": {},
   "outputs": [
    {
     "data": {
      "text/plain": [
       "{'Title': 'Boots Sleepeaze Tablets 25 mg - 20s',\n",
       " 'Price': '1.95',\n",
       " 'Price_Unit': '£',\n",
       " 'Short_Desc': \"For a restful night's sleep. Two a night.\",\n",
       " 'Rating': '2.7',\n",
       " 'Page_Size_KB': 2028}"
      ]
     },
     "execution_count": 30,
     "metadata": {},
     "output_type": "execute_result"
    }
   ],
   "source": [
    "# navigate to the product page\n",
    "# note its class element is `a`, so it should have and `href` attribute containing the hyperlink\n",
    "driver.get(product_element.get_attribute('href'))\n",
    "\n",
    "# extract data\n",
    "# rating is one of the latest to show\n",
    "rating = _wait_until_clickable(driver, By.CLASS_NAME, PRODUCT_RATING_CLASS_NAME).text\n",
    "\n",
    "# name is rendered from the beginning (even before than JS)\n",
    "name = driver.find_element(By.ID, PRODUCT_TITLE_ID).text\n",
    "\n",
    "# some items do not have a description\n",
    "text_raw = driver.find_element(By.CLASS_NAME, PRODUCT_TEXT_CLASS_NAME).text\n",
    "description = text_raw.split('\\n')[0]\n",
    "\n",
    "# split price and unit\n",
    "price_str = driver.find_element(By.CLASS_NAME, PRODUCT_PRICE_STR_CLASS_NAME).text\n",
    "price_unit, price = price_str[0], price_str[1:]\n",
    "\n",
    "# note that `sys.getsizeof` might not give the exact size of the HTML page,\n",
    "# as it also includes additional overhead from Python's object management\n",
    "page_size = sys.getsizeof(driver.page_source.encode('utf-8'))//1024 # in KB\n",
    "\n",
    "# display product data\n",
    "product_data = {\n",
    "    'Title': name,\n",
    "    'Price': price,\n",
    "    'Price_Unit': price_unit,\n",
    "    'Short_Desc': description,\n",
    "    'Rating': rating,\n",
    "    'Page_Size_KB': page_size\n",
    "}\n",
    "product_data"
   ]
  }
 ],
 "metadata": {
  "kernelspec": {
   "display_name": "Python 3 (ipykernel)",
   "language": "python",
   "name": "python3"
  },
  "language_info": {
   "codemirror_mode": {
    "name": "ipython",
    "version": 3
   },
   "file_extension": ".py",
   "mimetype": "text/x-python",
   "name": "python",
   "nbconvert_exporter": "python",
   "pygments_lexer": "ipython3",
   "version": "3.11.5"
  }
 },
 "nbformat": 4,
 "nbformat_minor": 5
}
